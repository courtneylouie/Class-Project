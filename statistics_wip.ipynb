{
 "cells": [
  {
   "cell_type": "markdown",
   "metadata": {},
   "source": [
    "# Statistics"
   ]
  },
  {
   "cell_type": "markdown",
   "metadata": {},
   "source": [
    "In this notebook, I want to see what kinds of predictions I can make using the text of the titles. One thing I will try to predict is the number of citations. Another thing I want to try is to predict the author based on the text of the title. And I will also try predicting the school based on the title."
   ]
  },
  {
   "cell_type": "code",
   "execution_count": 1,
   "metadata": {
    "collapsed": true
   },
   "outputs": [],
   "source": [
    "import csv\n",
    "import pandas as pd\n",
    "import numpy as np\n",
    "import random\n",
    "import string"
   ]
  },
  {
   "cell_type": "code",
   "execution_count": 2,
   "metadata": {
    "collapsed": true
   },
   "outputs": [],
   "source": [
    "import nltk\n",
    "from nltk.stem.porter import PorterStemmer"
   ]
  },
  {
   "cell_type": "code",
   "execution_count": 3,
   "metadata": {
    "collapsed": true
   },
   "outputs": [],
   "source": [
    "from sklearn.feature_extraction.text import TfidfVectorizer\n",
    "from sklearn.neighbors import NearestNeighbors\n",
    "from sklearn.neighbors import KNeighborsClassifier\n",
    "from sklearn import neighbors\n",
    "from sklearn.model_selection import LeaveOneOut"
   ]
  },
  {
   "cell_type": "code",
   "execution_count": 4,
   "metadata": {
    "collapsed": true
   },
   "outputs": [],
   "source": [
    "from matplotlib import pyplot as plt\n",
    "import matplotlib\n",
    "import seaborn as sns\n",
    "\n",
    "%matplotlib inline\n",
    "matplotlib.rcParams['figure.figsize'] = (10,6)"
   ]
  },
  {
   "cell_type": "code",
   "execution_count": 5,
   "metadata": {
    "collapsed": true
   },
   "outputs": [],
   "source": [
    "# Read in the data line-by-line\n",
    "datcsv = open('cleaned.txt','r')\n",
    "dat = csv.reader(datcsv, delimiter = ' ',quotechar='\"')\n",
    "df = pd.DataFrame(next(dat))\n",
    "df = df.transpose()\n",
    "\n",
    "for i in dat:\n",
    "    df_ = pd.DataFrame([i])\n",
    "    df = pd.concat([df, df_])\n",
    "\n",
    "datcsv.close()"
   ]
  },
  {
   "cell_type": "code",
   "execution_count": 6,
   "metadata": {
    "collapsed": true
   },
   "outputs": [],
   "source": [
    "df.columns = ['school', 'name', 'citedby', 'title', 'year']\n",
    "df['year'] = pd.to_numeric(df['year'])\n",
    "df['citedby'] = pd.to_numeric(df['citedby'])\n",
    "df = df.reset_index(drop = True)"
   ]
  },
  {
   "cell_type": "markdown",
   "metadata": {},
   "source": [
    "I want the response variable to be the number of citations, but papers that were published longer ago would probably tend to have more citations, so I think citations per year would be a better response variable."
   ]
  },
  {
   "cell_type": "code",
   "execution_count": 13,
   "metadata": {},
   "outputs": [
    {
     "data": {
      "text/plain": [
       "<matplotlib.axes._subplots.AxesSubplot at 0x4a304b2160>"
      ]
     },
     "execution_count": 13,
     "metadata": {},
     "output_type": "execute_result"
    },
    {
     "data": {
      "image/png": "[encoded data removed]",
      "text/plain": [
       "<matplotlib.figure.Figure at 0x4a30fcc780>"
      ]
     },
     "metadata": {},
     "output_type": "display_data"
    }
   ],
   "source": [
    "sns.regplot(df.year, df.citedby, fit_reg = False)"
   ]
  },
  {
   "cell_type": "markdown",
   "metadata": {},
   "source": [
    "Contrary to my belief, earlier publications were not cited the most. Publications from 2000-2010 seem to be cited the most. This may be because older publications become outdated and are not cited as much after a certain number of years. Because of this, I will not use citations per year, and just stick with the total number of citations."
   ]
  },
  {
   "cell_type": "code",
   "execution_count": 10,
   "metadata": {
    "collapsed": true
   },
   "outputs": [],
   "source": [
    "stemmer = PorterStemmer().stem\n",
    "tokenize = nltk.word_tokenize\n",
    "\n",
    "def stem(tokens,stemmer = PorterStemmer().stem):\n",
    "    return [stemmer(w.lower()) for w in tokens] \n",
    "\n",
    "def lemmatize(text):\n",
    "    \"\"\"Extract simple lemmas based on tokenization and stemming\"\"\"\n",
    "    tokens = nltk.word_tokenize(text)\n",
    "    tokens = [i for i in tokens if i not in string.punctuation]\n",
    "    stems = stem(tokens, stemmer)\n",
    "    return stems"
   ]
  },
  {
   "cell_type": "code",
   "execution_count": 11,
   "metadata": {},
   "outputs": [],
   "source": [
    "#vectorize the text i.e. convert the strings to numeric featres\n",
    "vectorizer = TfidfVectorizer(tokenizer = lemmatize, stop_words = 'english', \n",
    "                             smooth_idf = True, norm = None)\n",
    "X = vectorizer.fit_transform(df['title'])"
   ]
  },
  {
   "cell_type": "code",
   "execution_count": 12,
   "metadata": {
    "collapsed": true
   },
   "outputs": [],
   "source": [
    "# From Lecture 9 in class\n",
    "def loo_risk(X,y,regmod):\n",
    "    \"\"\"\n",
    "    Construct the leave-one-out square error risk for a regression model\n",
    "    \n",
    "    Input: design matrix, X, response vector, y, a regression model, regmod\n",
    "    Output: scalar LOO risk\n",
    "    \"\"\"\n",
    "    loo = LeaveOneOut()\n",
    "    loo_losses = []\n",
    "    for train_index, test_index in loo.split(X):\n",
    "        X_train, X_test = X[train_index], X[test_index]\n",
    "        y_train, y_test = y[train_index], y[test_index]\n",
    "        regmod.fit(X_train,y_train)\n",
    "        y_hat = regmod.predict(X_test)\n",
    "        loss = np.sum((y_hat - y_test)**2)\n",
    "        loo_losses.append(loss)\n",
    "    return np.mean(loo_losses)\n",
    "\n",
    "def emp_risk(X,y,regmod):\n",
    "    \"\"\"\n",
    "    Return the empirical risk for square error loss\n",
    "    \n",
    "    Input: design matrix, X, response vector, y, a regression model, regmod\n",
    "    Output: scalar empirical risk\n",
    "    \"\"\"\n",
    "    regmod.fit(X,y)\n",
    "    y_hat = regmod.predict(X)\n",
    "    return np.mean((y_hat - y)**2)"
   ]
  },
  {
   "cell_type": "code",
   "execution_count": 13,
   "metadata": {
    "collapsed": true
   },
   "outputs": [],
   "source": [
    "y = np.array(df.citedby)\n",
    "\n",
    "LOOs = []\n",
    "MSEs = []\n",
    "\n",
    "Ks = range(1,21,2)\n",
    "\n",
    "for k in Ks:\n",
    "    knn = neighbors.KNeighborsRegressor(n_neighbors=k)\n",
    "    LOOs.append(loo_risk(X,y,knn))\n",
    "    MSEs.append(emp_risk(X,y,knn))"
   ]
  },
  {
   "cell_type": "code",
   "execution_count": 14,
   "metadata": {},
   "outputs": [
    {
     "data": {
      "image/png": "[encoded data removed]",
      "text/plain": [
       "<matplotlib.figure.Figure at 0x10c23ba90>"
      ]
     },
     "metadata": {},
     "output_type": "display_data"
    }
   ],
   "source": [
    "plt.plot(Ks,LOOs,'r',label=\"LOO risk\")\n",
    "plt.title(\"Risks for kNN Regression\")\n",
    "plt.plot(Ks,MSEs,'b',label=\"Emp risk\")\n",
    "plt.legend()\n",
    "_ = plt.xlabel('k')"
   ]
  },
  {
   "cell_type": "code",
   "execution_count": 15,
   "metadata": {},
   "outputs": [
    {
     "data": {
      "text/plain": [
       "6400.95193098332"
      ]
     },
     "execution_count": 15,
     "metadata": {},
     "output_type": "execute_result"
    }
   ],
   "source": [
    "np.mean((df.citedby - df.citedby.mean())**2.)"
   ]
  },
  {
   "cell_type": "markdown",
   "metadata": {},
   "source": [
    "This graph indicates that the higher the k, the better. Using a higher k value is basically just taking the average to predict for every title, and the LOO error rate converges to about 6400, which is the MSE we would get if we predicted the average every time, making this a very bad model.\n",
    "\n",
    "It makes sense that the titles alone is not very effective for predicting the number of citations. For example, one confounding variable could be the journal, since some journals have higher impact factors than others."
   ]
  },
  {
   "cell_type": "markdown",
   "metadata": {},
   "source": [
    "Next, let's see how well we can use this dataset to predict the author based on the publication title."
   ]
  },
  {
   "cell_type": "code",
   "execution_count": 72,
   "metadata": {
    "collapsed": true
   },
   "outputs": [],
   "source": [
    "k_max = 30\n",
    "err_list = []\n",
    "\n",
    "y = np.array(df.name)\n",
    "\n",
    "for k in range(1,k_max+1,2):\n",
    "    nbrs = KNeighborsClassifier(n_neighbors=k).fit(X, y) \n",
    "    pred_lab = nbrs.predict(X)\n",
    "    err =  np.mean(pred_lab != y)\n",
    "    err_list.append(err)"
   ]
  },
  {
   "cell_type": "code",
   "execution_count": 73,
   "metadata": {},
   "outputs": [
    {
     "data": {
      "text/plain": [
       "Text(0,0.5,'Emprical Error Rate')"
      ]
     },
     "execution_count": 73,
     "metadata": {},
     "output_type": "execute_result"
    },
    {
     "data": {
      "image/png": "[encoded data removed]",
      "text/plain": [
       "<matplotlib.figure.Figure at 0x6c019e9518>"
      ]
     },
     "metadata": {},
     "output_type": "display_data"
    }
   ],
   "source": [
    "plt.plot(range(1,k_max + 1,2),err_list)\n",
    "plt.xlabel('k')\n",
    "plt.ylabel('Emprical Error Rate')"
   ]
  },
  {
   "cell_type": "markdown",
   "metadata": {},
   "source": [
    "This graph of empirical error rate tells the same story as above. At k=1, where the observation is its own nearest neighbor, the error rate is of course 0. However, as we increase k, the prediction keeps getting worse. One issue with this model may be that there are too many choices for the response variable. It may be very hard to choose among 56 professors."
   ]
  },
  {
   "cell_type": "markdown",
   "metadata": {},
   "source": [
    "Since choosing among 56 professors may be too many choices, another thing to try is to predict the school based on the publication title."
   ]
  },
  {
   "cell_type": "code",
   "execution_count": 74,
   "metadata": {
    "collapsed": true
   },
   "outputs": [],
   "source": [
    "k_max = 30\n",
    "err_list = []\n",
    "y = np.array(df.school)\n",
    "\n",
    "for k in range(1,k_max+1,2):\n",
    "    nbrs = KNeighborsClassifier(n_neighbors=k).fit(X, y) \n",
    "    pred_lab = nbrs.predict(X)\n",
    "    err =  np.mean(pred_lab != y)\n",
    "    err_list.append(err)"
   ]
  },
  {
   "cell_type": "code",
   "execution_count": 75,
   "metadata": {},
   "outputs": [
    {
     "data": {
      "text/plain": [
       "Text(0,0.5,'Emprical Error Rate')"
      ]
     },
     "execution_count": 75,
     "metadata": {},
     "output_type": "execute_result"
    },
    {
     "data": {
      "image/png": "[encoded data removed]",
      "text/plain": [
       "<matplotlib.figure.Figure at 0x6c019e11d0>"
      ]
     },
     "metadata": {},
     "output_type": "display_data"
    }
   ],
   "source": [
    "plt.plot(range(1,k_max + 1,2),err_list)\n",
    "plt.xlabel('k')\n",
    "plt.ylabel('Emprical Error Rate')"
   ]
  },
  {
   "cell_type": "markdown",
   "metadata": {},
   "source": [
    "This graph of empirical error rate tells another similar story. The error rate keeps increasing with k. The issue with this may be that the schools are not different enough from each other."
   ]
  },
  {
   "cell_type": "markdown",
   "metadata": {},
   "source": [
    "# Why are the predictions so bad?   \n",
    "Since it seems that the clustering of the text has nothing to with citations, author, or school, let's see how to text clusters on its own. For this, let's use kmeans."
   ]
  },
  {
   "cell_type": "code",
   "execution_count": 36,
   "metadata": {
    "collapsed": true
   },
   "outputs": [],
   "source": [
    "from sklearn.feature_extraction.text import TfidfVectorizer\n",
    "from sklearn.cluster import KMeans\n",
    "from sklearn.metrics import adjusted_rand_score\n",
    "from scipy.sparse import csr_matrix"
   ]
  },
  {
   "cell_type": "markdown",
   "metadata": {},
   "source": [
    "When I used random initializations, I found that the clustering was very unstable, and would commonly have very unbalanced clusters, even when I chose a low k. Therefore I chose the starting points myself using observations. The Cluster 0 starting point is related to beef, Cluster 1 related to dairy, and Cluster 2 related to genetics."
   ]
  },
  {
   "cell_type": "code",
   "execution_count": 141,
   "metadata": {},
   "outputs": [],
   "source": [
    "start = X[[3822,6307,6954]]\n",
    "start = start.todense()\n",
    "start = np.array(start)"
   ]
  },
  {
   "cell_type": "code",
   "execution_count": 142,
   "metadata": {},
   "outputs": [
    {
     "data": {
      "text/plain": [
       "KMeans(algorithm='auto', copy_x=True,\n",
       "    init=array([[ 0.,  0., ...,  0.,  0.],\n",
       "       [ 0.,  0., ...,  0.,  0.],\n",
       "       [ 0.,  0., ...,  0.,  0.]]),\n",
       "    max_iter=100, n_clusters=3, n_init=1, n_jobs=1,\n",
       "    precompute_distances='auto', random_state=None, tol=0.0001, verbose=0)"
      ]
     },
     "execution_count": 142,
     "metadata": {},
     "output_type": "execute_result"
    }
   ],
   "source": [
    "model = KMeans(n_clusters=3, init=start, max_iter=100, n_init=1)\n",
    "model.fit(X)"
   ]
  },
  {
   "cell_type": "code",
   "execution_count": 143,
   "metadata": {},
   "outputs": [
    {
     "data": {
      "text/plain": [
       "2    4939\n",
       "0    1388\n",
       "1    1165\n",
       "Name: cluster, dtype: int64"
      ]
     },
     "execution_count": 143,
     "metadata": {},
     "output_type": "execute_result"
    }
   ],
   "source": [
    "df['cluster'] = model.labels_\n",
    "df.cluster.value_counts()"
   ]
  },
  {
   "cell_type": "markdown",
   "metadata": {},
   "source": [
    "Note that cluster 2 has the most titles in it, almost 5 times more than the other two."
   ]
  },
  {
   "cell_type": "code",
   "execution_count": 153,
   "metadata": {},
   "outputs": [
    {
     "name": "stdout",
     "output_type": "stream",
     "text": [
      "Top terms per cluster:\n",
      "Cluster 0 :\n",
      "beef\n",
      "carcass\n",
      "effect\n",
      "steer\n",
      "characterist\n",
      "Cluster 1 :\n",
      "dairi\n",
      "cow\n",
      "lactat\n",
      "effect\n",
      "cattl\n",
      "Cluster 2 :\n",
      "bovin\n",
      "cell\n",
      "effect\n",
      "...\n",
      "develop\n"
     ]
    }
   ],
   "source": [
    "#print top terms per cluster clusters    \n",
    "print(\"Top terms per cluster:\")\n",
    "order_centroids = model.cluster_centers_.argsort()[:, ::-1]\n",
    "terms = vectorizer.get_feature_names()\n",
    "for i in range(3):\n",
    "    print (\"Cluster\", i, \":\")\n",
    "    for ind in order_centroids[i, :5]:\n",
    "        print (terms[ind])"
   ]
  },
  {
   "cell_type": "code",
   "execution_count": 154,
   "metadata": {},
   "outputs": [
    {
     "data": {
      "text/plain": [
       "<matplotlib.axes._subplots.AxesSubplot at 0x10e409668>"
      ]
     },
     "execution_count": 154,
     "metadata": {},
     "output_type": "execute_result"
    },
    {
     "data": {
      "image/png": "[encoded data removed]",
      "text/plain": [
       "<matplotlib.figure.Figure at 0x10e2a0c88>"
      ]
     },
     "metadata": {},
     "output_type": "display_data"
    }
   ],
   "source": [
    "df['cluster'] = model.labels_\n",
    "\n",
    "sns.regplot(df.cluster, df.citedby, fit_reg = False)"
   ]
  },
  {
   "cell_type": "code",
   "execution_count": 147,
   "metadata": {},
   "outputs": [
    {
     "data": {
      "text/plain": [
       "school   cluster\n",
       "Cornell  2           210\n",
       "         1            64\n",
       "         0            17\n",
       "Davis    2          1233\n",
       "         1           204\n",
       "         0            57\n",
       "Florida  2          1337\n",
       "         1           816\n",
       "         0           359\n",
       "Ohio     2           365\n",
       "         0            39\n",
       "         1            22\n",
       "TAMU     2          1794\n",
       "         0           916\n",
       "         1            59\n",
       "Name: cluster, dtype: int64"
      ]
     },
     "execution_count": 147,
     "metadata": {},
     "output_type": "execute_result"
    }
   ],
   "source": [
    "df.groupby(['school']).cluster.value_counts()"
   ]
  },
  {
   "cell_type": "markdown",
   "metadata": {},
   "source": [
    "Based on the above, each school did not fall neatly into one cluster as I had hoped. This lack of splitting may explain why the knn regression to predict school based on titles did not work well."
   ]
  },
  {
   "cell_type": "markdown",
   "metadata": {},
   "source": [
    "Note: There is probably a better, built-in way to do what the following function does, but I didn't know how, so I wrote this function myself. I basically want the same information that value_counts() provides, but I want the values next to each other (in columns) instead of in separate rows. In addition to re-inventing the wheel, my function is also slow. "
   ]
  },
  {
   "cell_type": "code",
   "execution_count": 149,
   "metadata": {},
   "outputs": [],
   "source": [
    "def count_clusters(name):\n",
    "    \"\"\"Count the number of publications in each cluster for a given person\"\"\"\n",
    "    c0 = 0\n",
    "    c1 = 0\n",
    "    c2 = 0\n",
    "    for i in range(len(df[df.name == name])):\n",
    "        if df[df.name == name]['cluster'].tolist()[i]==0:\n",
    "            c0 += 1\n",
    "        if df[df.name == name]['cluster'].tolist()[i]==1:\n",
    "            c1 += 1\n",
    "        if df[df.name == name]['cluster'].tolist()[i]==2:\n",
    "            c2 += 1\n",
    "    c.loc[c.name == name,\"cluster0\"]=c0\n",
    "    c.loc[c.name == name,\"cluster1\"]=c1\n",
    "    c.loc[c.name == name,\"cluster2\"]=c2\n",
    "    return;"
   ]
  },
  {
   "cell_type": "code",
   "execution_count": 152,
   "metadata": {},
   "outputs": [
    {
     "data": {
      "text/html": [
       "<div>\n",
       "<style>\n",
       "    .dataframe thead tr:only-child th {\n",
       "        text-align: right;\n",
       "    }\n",
       "\n",
       "    .dataframe thead th {\n",
       "        text-align: left;\n",
       "    }\n",
       "\n",
       "    .dataframe tbody tr th {\n",
       "        vertical-align: top;\n",
       "    }\n",
       "</style>\n",
       "<table border=\"1\" class=\"dataframe\">\n",
       "  <thead>\n",
       "    <tr style=\"text-align: right;\">\n",
       "      <th></th>\n",
       "      <th>name</th>\n",
       "      <th>cluster0</th>\n",
       "      <th>cluster1</th>\n",
       "      <th>cluster2</th>\n",
       "    </tr>\n",
       "  </thead>\n",
       "  <tbody>\n",
       "    <tr>\n",
       "      <th>0</th>\n",
       "      <td>Berger</td>\n",
       "      <td>0</td>\n",
       "      <td>0</td>\n",
       "      <td>157</td>\n",
       "    </tr>\n",
       "    <tr>\n",
       "      <th>1</th>\n",
       "      <td>Eadie</td>\n",
       "      <td>0</td>\n",
       "      <td>0</td>\n",
       "      <td>121</td>\n",
       "    </tr>\n",
       "    <tr>\n",
       "      <th>2</th>\n",
       "      <td>Horback</td>\n",
       "      <td>0</td>\n",
       "      <td>0</td>\n",
       "      <td>14</td>\n",
       "    </tr>\n",
       "    <tr>\n",
       "      <th>3</th>\n",
       "      <td>Kebreab</td>\n",
       "      <td>18</td>\n",
       "      <td>133</td>\n",
       "      <td>280</td>\n",
       "    </tr>\n",
       "    <tr>\n",
       "      <th>4</th>\n",
       "      <td>Kueltz</td>\n",
       "      <td>0</td>\n",
       "      <td>0</td>\n",
       "      <td>110</td>\n",
       "    </tr>\n",
       "    <tr>\n",
       "      <th>5</th>\n",
       "      <td>Liu</td>\n",
       "      <td>21</td>\n",
       "      <td>0</td>\n",
       "      <td>20</td>\n",
       "    </tr>\n",
       "    <tr>\n",
       "      <th>6</th>\n",
       "      <td>Makagon</td>\n",
       "      <td>1</td>\n",
       "      <td>0</td>\n",
       "      <td>30</td>\n",
       "    </tr>\n",
       "    <tr>\n",
       "      <th>7</th>\n",
       "      <td>Medrano</td>\n",
       "      <td>14</td>\n",
       "      <td>14</td>\n",
       "      <td>275</td>\n",
       "    </tr>\n",
       "    <tr>\n",
       "      <th>8</th>\n",
       "      <td>Miller</td>\n",
       "      <td>121</td>\n",
       "      <td>0</td>\n",
       "      <td>113</td>\n",
       "    </tr>\n",
       "    <tr>\n",
       "      <th>9</th>\n",
       "      <td>Ross</td>\n",
       "      <td>0</td>\n",
       "      <td>3</td>\n",
       "      <td>117</td>\n",
       "    </tr>\n",
       "    <tr>\n",
       "      <th>10</th>\n",
       "      <td>Schreier</td>\n",
       "      <td>0</td>\n",
       "      <td>0</td>\n",
       "      <td>33</td>\n",
       "    </tr>\n",
       "    <tr>\n",
       "      <th>11</th>\n",
       "      <td>Tucker</td>\n",
       "      <td>3</td>\n",
       "      <td>54</td>\n",
       "      <td>37</td>\n",
       "    </tr>\n",
       "    <tr>\n",
       "      <th>12</th>\n",
       "      <td>Ketterings</td>\n",
       "      <td>1</td>\n",
       "      <td>17</td>\n",
       "      <td>85</td>\n",
       "    </tr>\n",
       "    <tr>\n",
       "      <th>13</th>\n",
       "      <td>Amburgh</td>\n",
       "      <td>16</td>\n",
       "      <td>47</td>\n",
       "      <td>125</td>\n",
       "    </tr>\n",
       "    <tr>\n",
       "      <th>14</th>\n",
       "      <td>Cardoso</td>\n",
       "      <td>2</td>\n",
       "      <td>1</td>\n",
       "      <td>33</td>\n",
       "    </tr>\n",
       "    <tr>\n",
       "      <th>15</th>\n",
       "      <td>Daigle</td>\n",
       "      <td>1</td>\n",
       "      <td>0</td>\n",
       "      <td>29</td>\n",
       "    </tr>\n",
       "    <tr>\n",
       "      <th>16</th>\n",
       "      <td>Gill</td>\n",
       "      <td>16</td>\n",
       "      <td>4</td>\n",
       "      <td>103</td>\n",
       "    </tr>\n",
       "    <tr>\n",
       "      <th>17</th>\n",
       "      <td>Ing</td>\n",
       "      <td>0</td>\n",
       "      <td>0</td>\n",
       "      <td>92</td>\n",
       "    </tr>\n",
       "    <tr>\n",
       "      <th>18</th>\n",
       "      <td>Savell</td>\n",
       "      <td>367</td>\n",
       "      <td>3</td>\n",
       "      <td>128</td>\n",
       "    </tr>\n",
       "    <tr>\n",
       "      <th>19</th>\n",
       "      <td>Smith</td>\n",
       "      <td>131</td>\n",
       "      <td>1</td>\n",
       "      <td>203</td>\n",
       "    </tr>\n",
       "    <tr>\n",
       "      <th>20</th>\n",
       "      <td>Taylor</td>\n",
       "      <td>10</td>\n",
       "      <td>0</td>\n",
       "      <td>56</td>\n",
       "    </tr>\n",
       "    <tr>\n",
       "      <th>21</th>\n",
       "      <td>Tedeschi</td>\n",
       "      <td>119</td>\n",
       "      <td>38</td>\n",
       "      <td>199</td>\n",
       "    </tr>\n",
       "    <tr>\n",
       "      <th>22</th>\n",
       "      <td>Waldron</td>\n",
       "      <td>21</td>\n",
       "      <td>1</td>\n",
       "      <td>73</td>\n",
       "    </tr>\n",
       "    <tr>\n",
       "      <th>23</th>\n",
       "      <td>Welsh</td>\n",
       "      <td>27</td>\n",
       "      <td>3</td>\n",
       "      <td>75</td>\n",
       "    </tr>\n",
       "    <tr>\n",
       "      <th>24</th>\n",
       "      <td>Whitney</td>\n",
       "      <td>26</td>\n",
       "      <td>2</td>\n",
       "      <td>20</td>\n",
       "    </tr>\n",
       "    <tr>\n",
       "      <th>25</th>\n",
       "      <td>Wickersham</td>\n",
       "      <td>59</td>\n",
       "      <td>3</td>\n",
       "      <td>42</td>\n",
       "    </tr>\n",
       "    <tr>\n",
       "      <th>26</th>\n",
       "      <td>Wu</td>\n",
       "      <td>16</td>\n",
       "      <td>3</td>\n",
       "      <td>667</td>\n",
       "    </tr>\n",
       "    <tr>\n",
       "      <th>27</th>\n",
       "      <td>Cressman</td>\n",
       "      <td>1</td>\n",
       "      <td>0</td>\n",
       "      <td>3</td>\n",
       "    </tr>\n",
       "    <tr>\n",
       "      <th>28</th>\n",
       "      <td>Guerra</td>\n",
       "      <td>1</td>\n",
       "      <td>7</td>\n",
       "      <td>33</td>\n",
       "    </tr>\n",
       "    <tr>\n",
       "      <th>29</th>\n",
       "      <td>Lee</td>\n",
       "      <td>6</td>\n",
       "      <td>0</td>\n",
       "      <td>83</td>\n",
       "    </tr>\n",
       "    <tr>\n",
       "      <th>30</th>\n",
       "      <td>Pairis-Garcia</td>\n",
       "      <td>0</td>\n",
       "      <td>1</td>\n",
       "      <td>30</td>\n",
       "    </tr>\n",
       "    <tr>\n",
       "      <th>31</th>\n",
       "      <td>Parker</td>\n",
       "      <td>13</td>\n",
       "      <td>2</td>\n",
       "      <td>27</td>\n",
       "    </tr>\n",
       "    <tr>\n",
       "      <th>32</th>\n",
       "      <td>Wick</td>\n",
       "      <td>5</td>\n",
       "      <td>0</td>\n",
       "      <td>47</td>\n",
       "    </tr>\n",
       "    <tr>\n",
       "      <th>33</th>\n",
       "      <td>Yu</td>\n",
       "      <td>13</td>\n",
       "      <td>12</td>\n",
       "      <td>142</td>\n",
       "    </tr>\n",
       "    <tr>\n",
       "      <th>34</th>\n",
       "      <td>Adesogan</td>\n",
       "      <td>65</td>\n",
       "      <td>25</td>\n",
       "      <td>70</td>\n",
       "    </tr>\n",
       "    <tr>\n",
       "      <th>35</th>\n",
       "      <td>Binelli</td>\n",
       "      <td>7</td>\n",
       "      <td>36</td>\n",
       "      <td>181</td>\n",
       "    </tr>\n",
       "    <tr>\n",
       "      <th>36</th>\n",
       "      <td>Block</td>\n",
       "      <td>0</td>\n",
       "      <td>16</td>\n",
       "      <td>34</td>\n",
       "    </tr>\n",
       "    <tr>\n",
       "      <th>37</th>\n",
       "      <td>Bromfield</td>\n",
       "      <td>0</td>\n",
       "      <td>1</td>\n",
       "      <td>25</td>\n",
       "    </tr>\n",
       "    <tr>\n",
       "      <th>38</th>\n",
       "      <td>Carr</td>\n",
       "      <td>17</td>\n",
       "      <td>2</td>\n",
       "      <td>24</td>\n",
       "    </tr>\n",
       "    <tr>\n",
       "      <th>39</th>\n",
       "      <td>Dahl</td>\n",
       "      <td>9</td>\n",
       "      <td>89</td>\n",
       "      <td>102</td>\n",
       "    </tr>\n",
       "    <tr>\n",
       "      <th>40</th>\n",
       "      <td>Vries</td>\n",
       "      <td>1</td>\n",
       "      <td>100</td>\n",
       "      <td>60</td>\n",
       "    </tr>\n",
       "    <tr>\n",
       "      <th>41</th>\n",
       "      <td>DiLorenzo</td>\n",
       "      <td>71</td>\n",
       "      <td>8</td>\n",
       "      <td>38</td>\n",
       "    </tr>\n",
       "    <tr>\n",
       "      <th>42</th>\n",
       "      <td>Faciola</td>\n",
       "      <td>9</td>\n",
       "      <td>14</td>\n",
       "      <td>11</td>\n",
       "    </tr>\n",
       "    <tr>\n",
       "      <th>43</th>\n",
       "      <td>Ferraretto</td>\n",
       "      <td>6</td>\n",
       "      <td>15</td>\n",
       "      <td>7</td>\n",
       "    </tr>\n",
       "    <tr>\n",
       "      <th>44</th>\n",
       "      <td>Hansen</td>\n",
       "      <td>4</td>\n",
       "      <td>79</td>\n",
       "      <td>396</td>\n",
       "    </tr>\n",
       "    <tr>\n",
       "      <th>45</th>\n",
       "      <td>Hersom</td>\n",
       "      <td>64</td>\n",
       "      <td>6</td>\n",
       "      <td>33</td>\n",
       "    </tr>\n",
       "    <tr>\n",
       "      <th>46</th>\n",
       "      <td>Laporta</td>\n",
       "      <td>4</td>\n",
       "      <td>14</td>\n",
       "      <td>20</td>\n",
       "    </tr>\n",
       "    <tr>\n",
       "      <th>47</th>\n",
       "      <td>Mateescu</td>\n",
       "      <td>23</td>\n",
       "      <td>0</td>\n",
       "      <td>46</td>\n",
       "    </tr>\n",
       "    <tr>\n",
       "      <th>48</th>\n",
       "      <td>Miller-Cushon</td>\n",
       "      <td>1</td>\n",
       "      <td>25</td>\n",
       "      <td>2</td>\n",
       "    </tr>\n",
       "    <tr>\n",
       "      <th>49</th>\n",
       "      <td>Moriel</td>\n",
       "      <td>46</td>\n",
       "      <td>16</td>\n",
       "      <td>7</td>\n",
       "    </tr>\n",
       "    <tr>\n",
       "      <th>50</th>\n",
       "      <td>Nelson</td>\n",
       "      <td>3</td>\n",
       "      <td>11</td>\n",
       "      <td>36</td>\n",
       "    </tr>\n",
       "    <tr>\n",
       "      <th>51</th>\n",
       "      <td>Oltenacu</td>\n",
       "      <td>3</td>\n",
       "      <td>72</td>\n",
       "      <td>62</td>\n",
       "    </tr>\n",
       "    <tr>\n",
       "      <th>52</th>\n",
       "      <td>Penagaricano</td>\n",
       "      <td>3</td>\n",
       "      <td>4</td>\n",
       "      <td>32</td>\n",
       "    </tr>\n",
       "    <tr>\n",
       "      <th>53</th>\n",
       "      <td>Santos</td>\n",
       "      <td>11</td>\n",
       "      <td>282</td>\n",
       "      <td>79</td>\n",
       "    </tr>\n",
       "    <tr>\n",
       "      <th>54</th>\n",
       "      <td>Wickens</td>\n",
       "      <td>1</td>\n",
       "      <td>1</td>\n",
       "      <td>27</td>\n",
       "    </tr>\n",
       "    <tr>\n",
       "      <th>55</th>\n",
       "      <td>Williams</td>\n",
       "      <td>11</td>\n",
       "      <td>0</td>\n",
       "      <td>45</td>\n",
       "    </tr>\n",
       "  </tbody>\n",
       "</table>\n",
       "</div>"
      ],
      "text/plain": [
       "             name  cluster0  cluster1  cluster2\n",
       "0          Berger         0         0       157\n",
       "1           Eadie         0         0       121\n",
       "2         Horback         0         0        14\n",
       "3         Kebreab        18       133       280\n",
       "4          Kueltz         0         0       110\n",
       "5             Liu        21         0        20\n",
       "6         Makagon         1         0        30\n",
       "7         Medrano        14        14       275\n",
       "8          Miller       121         0       113\n",
       "9            Ross         0         3       117\n",
       "10       Schreier         0         0        33\n",
       "11         Tucker         3        54        37\n",
       "12     Ketterings         1        17        85\n",
       "13        Amburgh        16        47       125\n",
       "14        Cardoso         2         1        33\n",
       "15         Daigle         1         0        29\n",
       "16           Gill        16         4       103\n",
       "17            Ing         0         0        92\n",
       "18         Savell       367         3       128\n",
       "19          Smith       131         1       203\n",
       "20         Taylor        10         0        56\n",
       "21       Tedeschi       119        38       199\n",
       "22        Waldron        21         1        73\n",
       "23          Welsh        27         3        75\n",
       "24        Whitney        26         2        20\n",
       "25     Wickersham        59         3        42\n",
       "26             Wu        16         3       667\n",
       "27       Cressman         1         0         3\n",
       "28         Guerra         1         7        33\n",
       "29            Lee         6         0        83\n",
       "30  Pairis-Garcia         0         1        30\n",
       "31         Parker        13         2        27\n",
       "32           Wick         5         0        47\n",
       "33             Yu        13        12       142\n",
       "34       Adesogan        65        25        70\n",
       "35        Binelli         7        36       181\n",
       "36          Block         0        16        34\n",
       "37      Bromfield         0         1        25\n",
       "38           Carr        17         2        24\n",
       "39           Dahl         9        89       102\n",
       "40          Vries         1       100        60\n",
       "41      DiLorenzo        71         8        38\n",
       "42        Faciola         9        14        11\n",
       "43     Ferraretto         6        15         7\n",
       "44         Hansen         4        79       396\n",
       "45         Hersom        64         6        33\n",
       "46        Laporta         4        14        20\n",
       "47       Mateescu        23         0        46\n",
       "48  Miller-Cushon         1        25         2\n",
       "49         Moriel        46        16         7\n",
       "50         Nelson         3        11        36\n",
       "51       Oltenacu         3        72        62\n",
       "52   Penagaricano         3         4        32\n",
       "53         Santos        11       282        79\n",
       "54        Wickens         1         1        27\n",
       "55       Williams        11         0        45"
      ]
     },
     "execution_count": 152,
     "metadata": {},
     "output_type": "execute_result"
    }
   ],
   "source": [
    "names = df.name.unique()\n",
    "c = pd.DataFrame(names)\n",
    "c.columns = ['name']\n",
    "\n",
    "c['cluster0'] = 0\n",
    "c['cluster1'] = 0\n",
    "c['cluster2'] = 0\n",
    "\n",
    "for i in names:\n",
    "    count_clusters(i)\n",
    "\n",
    "c"
   ]
  },
  {
   "cell_type": "markdown",
   "metadata": {},
   "source": [
    "From the above, we can see that some professors have a majority of their publications in a single cluster, but others are very evenly split between two clusters, and one is evenly split between all three clusters. Because of this, it seems that it would be hard to predict the author based on the text, which may explain why the knn regression model didn't work well. "
   ]
  }
 ],
 "metadata": {
  "kernelspec": {
   "display_name": "Python 3",
   "language": "python",
   "name": "python3"
  },
  "language_info": {
   "codemirror_mode": {
    "name": "ipython",
    "version": 3
   },
   "file_extension": ".py",
   "mimetype": "text/x-python",
   "name": "python",
   "nbconvert_exporter": "python",
   "pygments_lexer": "ipython3",
   "version": "3.6.3"
  }
 },
 "nbformat": 4,
 "nbformat_minor": 2
}
